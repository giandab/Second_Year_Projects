{
 "cells": [
  {
   "cell_type": "markdown",
   "id": "3d626d9c",
   "metadata": {
    "deletable": false,
    "editable": false,
    "nbgrader": {
     "cell_type": "markdown",
     "checksum": "e9b9c1711a62b23804a41f443fbfe94e",
     "grade": false,
     "grade_id": "cell-906a17c376e54909",
     "locked": true,
     "schema_version": 3,
     "solution": false,
     "task": false
    }
   },
   "source": [
    "# MT2505 Computing Project Part 2 (Semester 2 2021/22)"
   ]
  },
  {
   "cell_type": "markdown",
   "id": "c98e59f3",
   "metadata": {
    "deletable": false,
    "editable": false,
    "nbgrader": {
     "cell_type": "markdown",
     "checksum": "9ef9d86a8774ea9bc76f7494710152ac",
     "grade": false,
     "grade_id": "cell-966eb3438816463b",
     "locked": true,
     "schema_version": 3,
     "solution": false,
     "task": false
    }
   },
   "source": [
    "## Preliminaries\n",
    "\n",
    "This is the second of three Computing Projects for MT2505 Abstract Algebra. This project focuses on investigating properties of permutations using Python."
   ]
  },
  {
   "cell_type": "markdown",
   "id": "5064ca08",
   "metadata": {
    "deletable": false,
    "editable": false,
    "nbgrader": {
     "cell_type": "markdown",
     "checksum": "0a2f4ca2ecfcec90ca1881e48981bf29",
     "grade": false,
     "grade_id": "cell-e82277203e1b3bf5",
     "locked": true,
     "schema_version": 3,
     "solution": false,
     "task": false
    }
   },
   "source": [
    "#### Submitting your project\n",
    "\n",
    "The deadline for this part of the project is **5pm on Friday 18th March**. There are 10 marks available in this part, and it is worth 5% of your final grade in the module.\n",
    "\n",
    "In order to submit your project, you must download it from this server **as a notebook** using `File> Download As> Notebook (.ipynb)`. You can then upload it to the relevant area on MySaint.\n",
    "\n",
    "Your notebook must produce the correct results when run from top to bottom with a fresh Python kernel. To test this, you should click `Kernel> Restart & Run All`. You should also **validate** your project before submitting it.\n",
    "\n",
    "The process for submitting this part of your project is therefore\n",
    "1. Use `Kernel> Restart & Run All` to ensure that your code works correctly when run in sequence.\n",
    "2. Click the `Validate` button in the toolbar to ensure that your project passes the included validation cells.\n",
    "3. Download your project using `File> Download As> Notebook (.ipynb)`.\n",
    "4. Upload this file to MySaint."
   ]
  },
  {
   "cell_type": "markdown",
   "id": "e792a8c4",
   "metadata": {
    "deletable": false,
    "editable": false,
    "nbgrader": {
     "cell_type": "markdown",
     "checksum": "0dc91e9d463061f9bd0472f9df887f14",
     "grade": false,
     "grade_id": "cell-2686bd80100766cf",
     "locked": true,
     "schema_version": 3,
     "solution": false,
     "task": false
    }
   },
   "source": [
    "## The groups module\n",
    "\n",
    "In this part of the project, you will use the `groups` module written by Prof J. D. Mitchell (with minor adjustments from Dr Quick). This contains functionality for working with permutations and symmetric groups."
   ]
  },
  {
   "cell_type": "code",
   "execution_count": 138,
   "id": "9b2a602d",
   "metadata": {},
   "outputs": [],
   "source": [
    "from groups import *"
   ]
  },
  {
   "cell_type": "code",
   "execution_count": 139,
   "id": "420ef854",
   "metadata": {},
   "outputs": [],
   "source": [
    "G = SymmetricGroup(4)      # get the symmetric group of given degree"
   ]
  },
  {
   "cell_type": "code",
   "execution_count": 140,
   "id": "079002af",
   "metadata": {},
   "outputs": [
    {
     "data": {
      "text/plain": [
       "()"
      ]
     },
     "execution_count": 140,
     "metadata": {},
     "output_type": "execute_result"
    }
   ],
   "source": [
    "G.identity ()      # get the identity of a symmetric group"
   ]
  },
  {
   "cell_type": "code",
   "execution_count": 141,
   "id": "b91a8575",
   "metadata": {},
   "outputs": [
    {
     "data": {
      "text/plain": [
       "24"
      ]
     },
     "execution_count": 141,
     "metadata": {},
     "output_type": "execute_result"
    }
   ],
   "source": [
    "G.order()     # get the order of a symmetric group"
   ]
  },
  {
   "cell_type": "code",
   "execution_count": 142,
   "id": "63d65bcb",
   "metadata": {},
   "outputs": [
    {
     "data": {
      "text/plain": [
       "[(),\n",
       " (3 4),\n",
       " (2 3),\n",
       " (2 4 3),\n",
       " (2 4),\n",
       " (2 3 4),\n",
       " (1 2),\n",
       " (1 2)(3 4),\n",
       " (1 3 2),\n",
       " (1 4 3 2),\n",
       " (1 4 2),\n",
       " (1 3 4 2),\n",
       " (1 3),\n",
       " (1 4 3),\n",
       " (1 2 3),\n",
       " (1 2 4 3),\n",
       " (1 3)(2 4),\n",
       " (1 4 2 3),\n",
       " (1 4),\n",
       " (1 3 4),\n",
       " (1 4)(2 3),\n",
       " (1 3 2 4),\n",
       " (1 2 4),\n",
       " (1 2 3 4)]"
      ]
     },
     "execution_count": 142,
     "metadata": {},
     "output_type": "execute_result"
    }
   ],
   "source": [
    "[x for x in G]   # get a list of all the elements of a symmetric group"
   ]
  },
  {
   "cell_type": "code",
   "execution_count": 143,
   "id": "7a0181fe",
   "metadata": {},
   "outputs": [],
   "source": [
    "# create permutations by specifying their disjoint cycle structure\n",
    "x = Perm((1, 2), (4, 5))\n",
    "y = Perm((4, 3), (2, 1))"
   ]
  },
  {
   "cell_type": "code",
   "execution_count": 144,
   "id": "7fb063b3",
   "metadata": {},
   "outputs": [
    {
     "data": {
      "text/plain": [
       "(3 5 4)"
      ]
     },
     "execution_count": 144,
     "metadata": {},
     "output_type": "execute_result"
    }
   ],
   "source": [
    "x * y    # multiply/compose permutations (left to right)"
   ]
  },
  {
   "cell_type": "code",
   "execution_count": 145,
   "id": "5442fae3",
   "metadata": {},
   "outputs": [
    {
     "data": {
      "text/plain": [
       "4"
      ]
     },
     "execution_count": 145,
     "metadata": {},
     "output_type": "execute_result"
    }
   ],
   "source": [
    "y.degree()    # get the degree of the symmetric group to which x belongs"
   ]
  },
  {
   "cell_type": "code",
   "execution_count": 146,
   "id": "6b27711f",
   "metadata": {},
   "outputs": [
    {
     "data": {
      "text/plain": [
       "3"
      ]
     },
     "execution_count": 146,
     "metadata": {},
     "output_type": "execute_result"
    }
   ],
   "source": [
    "x.hit (3)    # apply the permutation x to the given point"
   ]
  },
  {
   "cell_type": "code",
   "execution_count": 147,
   "id": "bed60695",
   "metadata": {},
   "outputs": [
    {
     "data": {
      "text/plain": [
       "()"
      ]
     },
     "execution_count": 147,
     "metadata": {},
     "output_type": "execute_result"
    }
   ],
   "source": [
    "x ** 2    # calculate the power of a permutation"
   ]
  },
  {
   "cell_type": "code",
   "execution_count": 148,
   "id": "e203a000",
   "metadata": {},
   "outputs": [
    {
     "data": {
      "text/plain": [
       "(1 2)(4 5)"
      ]
     },
     "execution_count": 148,
     "metadata": {},
     "output_type": "execute_result"
    }
   ],
   "source": [
    "x ** -1    # invert a permutation"
   ]
  },
  {
   "cell_type": "code",
   "execution_count": 149,
   "id": "b5d295b0",
   "metadata": {},
   "outputs": [
    {
     "data": {
      "text/plain": [
       "False"
      ]
     },
     "execution_count": 149,
     "metadata": {},
     "output_type": "execute_result"
    }
   ],
   "source": [
    "x == y     # test equality of two permutations"
   ]
  },
  {
   "cell_type": "code",
   "execution_count": 150,
   "id": "458926e1",
   "metadata": {},
   "outputs": [
    {
     "data": {
      "text/plain": [
       "'(1 2)(4 5)'"
      ]
     },
     "execution_count": 150,
     "metadata": {},
     "output_type": "execute_result"
    }
   ],
   "source": [
    "str(x)    # convert a permutation to a string"
   ]
  },
  {
   "cell_type": "code",
   "execution_count": 151,
   "id": "068add69",
   "metadata": {},
   "outputs": [
    {
     "data": {
      "text/plain": [
       "False"
      ]
     },
     "execution_count": 151,
     "metadata": {},
     "output_type": "execute_result"
    }
   ],
   "source": [
    "# Check if something is a symmetric group.\n",
    "# Only returns True if the input was created\n",
    "# using the SymmetricGroup command.\n",
    "IsSymmetricGroup (x)"
   ]
  },
  {
   "cell_type": "markdown",
   "id": "d6121c52",
   "metadata": {
    "deletable": false,
    "editable": false,
    "nbgrader": {
     "cell_type": "markdown",
     "checksum": "55713ef2ec3f21d9211e84ffa5060654",
     "grade": false,
     "grade_id": "cell-75cee04623ed6caa",
     "locked": true,
     "points": 0,
     "schema_version": 3,
     "solution": false,
     "task": true
    }
   },
   "source": [
    "#### Question 1\n",
    "\n",
    "Recall that the *k-cycle* $c = (i_1\\ i_2\\ \\ldots i_k) \\in S_n$ denotes the permutation which maps $i_{j} \\mapsto i_{j + 1}$ for $1 \\leq j < k$, maps $i_k \\mapsto i_1$, and fixes all other points. Any permutation $\\sigma \\in S_n$ can be written as a product of disjoint cycles.\n",
    "\n",
    "***Write a function `cycle` which takes a `Perm` `p` and a point `i`, and returns a `tuple` containing the cycle of `p` which starts at `i`. An appropriate `Exception` should be raised if `p` is not a `Perm` or `i` is not an integer in the range `{1, 2, ..., p.degree()}`.***\n",
    "<p style='text-align:right;'> <b> [2 Marks] </b> </p>\n",
    "\n",
    "The first element in the output `tuple` should be `i` (note that this means the cycle might not have the smallest element first as is common).\n",
    "\n",
    "For example, given `x = Perm((1, 3, 5, 6), (2, 4))`, `cycle(x, 5)` should return the `tuple` `(5, 6, 1, 3)`.\n",
    "\n",
    "**Note:** you can create a `tuple` from a `list` using `tuple(my_list)`.\n"
   ]
  },
  {
   "cell_type": "code",
   "execution_count": 152,
   "id": "a3890fa6",
   "metadata": {
    "scrolled": true
   },
   "outputs": [],
   "source": [
    "def cycle(p,i):\n",
    "    \n",
    "    #Validation checks\n",
    "    if isinstance(p,Perm)!=True:\n",
    "        raise TypeError(\"input p should be a Perm\")\n",
    "    if type(i)!= int:\n",
    "        raise TypeError(\"i should be an integer\")\n",
    "    if i<1 or i >p.degree():\n",
    "        raise ValueError(\"i should be in the range {1,2,...,p.degree}\")\n",
    "    \n",
    "    #Using a list and coverting back to tuple is easier\n",
    "    new_tuple = [i]\n",
    "    a = p.hit(i)\n",
    "    \n",
    "    #keep applying the permutation until we get back to the original i\n",
    "    while a!=i:\n",
    "        new_tuple.append(a)\n",
    "        a = p.hit(a)\n",
    "\n",
    "    new_tuple = tuple(new_tuple)\n",
    "    return new_tuple\n"
   ]
  },
  {
   "cell_type": "code",
   "execution_count": 153,
   "id": "feb27ebc",
   "metadata": {
    "deletable": false,
    "editable": false,
    "nbgrader": {
     "cell_type": "code",
     "checksum": "973816ede34a571daf53e0993e97875c",
     "grade": true,
     "grade_id": "cell-560cd6784b24de84",
     "locked": true,
     "points": 2,
     "schema_version": 3,
     "solution": false,
     "task": false
    }
   },
   "outputs": [],
   "source": [
    "# VALIDATION CELL\n",
    "# Cells like this contain some validation.\n",
    "# If an error is produced, you need to fix something in your code.\n",
    "# If no error is produced, this is *NOT* a guarantee you have correctly answered the question.\n",
    "# Do not modify these cells.\n",
    "from nose.tools import *\n",
    "from groups import *\n",
    "if not \"cycle\" in globals():\n",
    "    raise NotImplementedError(\"cycle has not been defined in Question 1\")\n",
    "\n",
    "test_perm = Perm((1, 3, 2, 4))\n",
    "assert_equal(cycle(test_perm, 1), (1, 3, 2, 4))\n",
    "assert_equal(cycle(test_perm, 2), (2, 4, 1, 3))\n",
    "\n",
    "assert_raises(TypeError, cycle, \"banana\", 1)\n",
    "assert_raises(TypeError, cycle, Perm((1, 2)), \"banana\")\n",
    "assert_raises(ValueError, cycle, Perm((1, 2)), 5)\n"
   ]
  },
  {
   "cell_type": "markdown",
   "id": "dbc6d2f0",
   "metadata": {
    "deletable": false,
    "editable": false,
    "nbgrader": {
     "cell_type": "markdown",
     "checksum": "ca084f37da4c55d2a321b688f44ce7ac",
     "grade": false,
     "grade_id": "cell-ba11317aa265bcfe",
     "locked": true,
     "schema_version": 3,
     "solution": false,
     "task": false
    }
   },
   "source": [
    "#### Question 2\n",
    "\n",
    "The function `disjoint_cycles` defined below will, when given input a `Perm` `p`, return the non-trivial disjoint cycles of `p` (assuming that your function `cycle` works correctly)."
   ]
  },
  {
   "cell_type": "code",
   "execution_count": 154,
   "id": "baeb5250",
   "metadata": {},
   "outputs": [],
   "source": [
    "def disjoint_cycles(p):\n",
    "    if not isinstance(p, Perm):\n",
    "        raise TypeError(\"disjoint_cycles expected a Perm, but got a \", type(p).__name__)\n",
    "    seen = set()   # keep track of the points we've seen in a cycle so far\n",
    "    out = set()\n",
    "    for i in range(1, p.degree() + 1):\n",
    "        if not i in seen:  # don't compute cycles we've already seen points in\n",
    "            c = cycle(p, i)\n",
    "            seen |= set(c) # update seen to contain the points in the cycle c\n",
    "            if len(c) > 1: # only include the non-trivial cycles\n",
    "                out.add(c)\n",
    "    return out"
   ]
  },
  {
   "cell_type": "markdown",
   "id": "309256f5",
   "metadata": {
    "deletable": false,
    "editable": false,
    "nbgrader": {
     "cell_type": "markdown",
     "checksum": "1d96881855aea74979f68876c72f8413",
     "grade": false,
     "grade_id": "cell-ad8fdc9ca5f8b4e3",
     "locked": true,
     "schema_version": 3,
     "solution": false,
     "task": false
    }
   },
   "source": [
    "Recall that the *order* of a permutation $\\sigma$ is the smallest positive integer $k$ such that $\\sigma^k = \\operatorname{id}$. Running the following code cell will import a permutation with very large order. The order of this permutation is much too large to find by simply testing each integer until you find a power that works."
   ]
  },
  {
   "cell_type": "code",
   "execution_count": 155,
   "id": "64853819",
   "metadata": {},
   "outputs": [],
   "source": [
    "import gzip, pickle\n",
    "vlp = pickle.load(gzip.open(\"vlp.p.gz\", \"r\"))"
   ]
  },
  {
   "cell_type": "markdown",
   "id": "9fbb68ec",
   "metadata": {
    "deletable": false,
    "editable": false,
    "nbgrader": {
     "cell_type": "markdown",
     "checksum": "c3e908513f3ea538f256d3798988525c",
     "grade": false,
     "grade_id": "cell-e17d72c695c2b904",
     "locked": true,
     "points": 0,
     "schema_version": 3,
     "solution": false,
     "task": true
    }
   },
   "source": [
    "***Using the function `disjoint_cycles` and any appropriate functions from the [`math` module](https://docs.python.org/3/library/math.html), compute the order of `vlp`. Store this in a variable `vlp_order`.***\n",
    "\n",
    "<p style='text-align:right;'> <b> [2 Marks] </b> </p>\n",
    "\n",
    "**Note:** as usual, you must show all of the computations required to justify your answer. Your notebook must execute in under 20 minutes. You might want to test your method using some of the following permutations:\n",
    "\n",
    "`Perm((1, 2, 3), (4, 5, 6), (10, 11, 12))\n",
    "Perm((1, 3), (4, 5), (6, 8, 10), (7, 9))\n",
    "Perm((1, 4, 3, 2, 12, 7, 10, 5), (9, 11))\n",
    "Perm((1, 8, 12, 9, 7, 5, 4, 11, 10, 2), (6, 13))\n",
    "Perm((1, 9, 8, 13, 10, 5), (2, 14), (3, 6, 4, 7, 11, 12))`\n",
    "\n",
    "The orders of these should be 3, 6, 8, 10, and 6 respectively."
   ]
  },
  {
   "cell_type": "code",
   "execution_count": 156,
   "id": "59240ee6",
   "metadata": {},
   "outputs": [],
   "source": [
    "import math\n",
    "from functools import reduce # I used this to avoid errors like --- object cannot be interpeted as integer when using math.lcm()\n",
    "\n",
    "# by theorem 8.15 ii) if the disjoint cycles have lengths ri, then the order of the permutation is equal to the \n",
    "# lowest common multiple of the lengths\n",
    "\n",
    "p = vlp\n",
    "p = disjoint_cycles(p)\n",
    "lengths = []\n",
    "for i in p:\n",
    "    lengths.append(len(i))\n",
    "\n",
    "\n",
    "vlp_order = reduce(math.lcm,lengths)  \n"
   ]
  },
  {
   "cell_type": "code",
   "execution_count": 157,
   "id": "ca392845",
   "metadata": {
    "deletable": false,
    "editable": false,
    "nbgrader": {
     "cell_type": "code",
     "checksum": "02a5d821143abb89b3af208b5ae566e3",
     "grade": true,
     "grade_id": "cell-8e843f4c24968863",
     "locked": true,
     "points": 2,
     "schema_version": 3,
     "solution": false,
     "task": false
    }
   },
   "outputs": [],
   "source": [
    "# VALIDATION CELL\n",
    "from nose.tools import *\n",
    "from groups import *\n",
    "if not \"vlp_order\" in globals():\n",
    "    raise NotImplementedError(\"vlp_order has not been defined in Question 2\")\n",
    "if not isinstance(vlp_order, int):\n",
    "    raise TypeError()\n"
   ]
  },
  {
   "cell_type": "markdown",
   "id": "d7930fef",
   "metadata": {
    "deletable": false,
    "editable": false,
    "nbgrader": {
     "cell_type": "markdown",
     "checksum": "26a66197412d1b3894fe0b4af605d8cf",
     "grade": false,
     "grade_id": "cell-52223c622f6094fb",
     "locked": true,
     "schema_version": 3,
     "solution": false,
     "task": false
    }
   },
   "source": [
    "#### Question 3\n",
    "\n",
    "Define the inversions of a permutation $\\sigma \\in S_n$ to be the pairs $(i, j)$ such that $1 \\leq i < j \\leq n$ and $i\\sigma > j\\sigma$. For example, $(1, 2)$ is an inversion of the permutation $\\sigma = (1\\ 4)(2\\ 3)$ since $1 < 2$ but $1\\sigma = 4 > 3 = 2\\sigma$.\n",
    "\n",
    "Denote the number of inversions of $\\sigma$ by $(\\sigma)\\iota$.\n",
    "\n",
    "***Write a function `number_inversions` which takes one argument, a `Perm` `p`, and returns $(p)\\iota$. The function should raise an appropriate `Exception` if the argument given is not a `Perm`.***\n",
    "<p style='text-align:right;'> <b> [2 Marks] </b> </p>"
   ]
  },
  {
   "cell_type": "code",
   "execution_count": 158,
   "id": "0c47d26b",
   "metadata": {},
   "outputs": [],
   "source": [
    "\n",
    "def number_inversions(p):\n",
    "    \n",
    "    if isinstance(p,Perm)!=True:\n",
    "        raise TypeError(\"input p should be a Perm\")\n",
    "        \n",
    "    inversions = 0\n",
    "    \n",
    "    for i in range(1,p.degree()+1):\n",
    "        \n",
    "        #second loop starts at i+1 as i<j as in definition\n",
    "        for x in range(i+1,p.degree()+1):\n",
    "            \n",
    "            #checking if is>js\n",
    "            if p.hit(i)>p.hit(x):\n",
    "                inversions +=1\n",
    "    return inversions\n",
    "        \n",
    "                    "
   ]
  },
  {
   "cell_type": "code",
   "execution_count": 159,
   "id": "cb1480c5",
   "metadata": {
    "deletable": false,
    "editable": false,
    "nbgrader": {
     "cell_type": "code",
     "checksum": "c8d8e1a122f3f3cd04bff2b4c75637e0",
     "grade": true,
     "grade_id": "cell-d396aeabb9a0ab12",
     "locked": true,
     "points": 2,
     "schema_version": 3,
     "solution": false,
     "task": false
    }
   },
   "outputs": [],
   "source": [
    "# VALIDATION CELL\n",
    "from nose.tools import *\n",
    "from groups import *\n",
    "if not \"number_inversions\" in globals():\n",
    "    raise NotImplementedError(\"number_inversions has not been defined in Question 3\")\n",
    "\n",
    "assert_equal(number_inversions(Perm((1, 4), (2, 3))), 6)\n",
    "    "
   ]
  },
  {
   "cell_type": "markdown",
   "id": "c066ff93",
   "metadata": {
    "deletable": false,
    "editable": false,
    "nbgrader": {
     "cell_type": "markdown",
     "checksum": "16293bc9bfb9db0fcb7047816d1ed59d",
     "grade": false,
     "grade_id": "cell-5db75ee80988a48c",
     "locked": true,
     "points": 2,
     "schema_version": 3,
     "solution": false,
     "task": true
    }
   },
   "source": [
    "#### Question 4\n",
    "\n",
    "Given a permutation $\\sigma$, write $(\\sigma)\\nu$ for the number of cycles of even length in its disjoint cycle representation.\n",
    "\n",
    "***Use Python to show that for all $\\sigma \\in S_7$, $(\\sigma)\\nu \\equiv (\\sigma)\\iota \\mod 2$, where $\\iota$ is as defined in Question 3.***\n",
    "\n",
    "<p style='text-align:right;'> <b> [2 Marks] </b> </p>"
   ]
  },
  {
   "cell_type": "code",
   "execution_count": 160,
   "id": "b811d1a0",
   "metadata": {},
   "outputs": [
    {
     "data": {
      "text/plain": [
       "True"
      ]
     },
     "execution_count": 160,
     "metadata": {},
     "output_type": "execute_result"
    }
   ],
   "source": [
    "S = SymmetricGroup(7)\n",
    "S = [x for x in S]\n",
    "\n",
    "def proof(S):\n",
    "    \n",
    "    #check every permutation in S7\n",
    "    for i in S:\n",
    "        sigma_v = 0\n",
    "        inversions = number_inversions(i)\n",
    "        disjoint_i = disjoint_cycles(i)\n",
    "\n",
    "        #check every cycle of even length in the permutation\n",
    "        for x in disjoint_i:\n",
    "            if len(x)%2 ==0:\n",
    "                sigma_v +=1\n",
    "\n",
    "        #if the condition does not hold , return false\n",
    "        if (sigma_v - inversions)%2 !=0:\n",
    "            return False\n",
    "    return True\n",
    "\n",
    "proof(S)\n"
   ]
  },
  {
   "cell_type": "markdown",
   "id": "1f2feb6c",
   "metadata": {
    "deletable": false,
    "editable": false,
    "nbgrader": {
     "cell_type": "markdown",
     "checksum": "1b05e8d98c500d5af77c5aa543794dd2",
     "grade": false,
     "grade_id": "cell-7bd1e687237750f3",
     "locked": true,
     "points": 0,
     "schema_version": 3,
     "solution": false,
     "task": true
    }
   },
   "source": [
    "#### Question 5\n",
    "\n",
    "***Find any permutation $\\sigma$ such that the order of $\\sigma$ is precisely 8 times the order of `vlp`. Store this permutation as `bigger_perm`. You must justify your answer.***\n",
    "\n",
    "<p style='text-align:right;'> <b> [2 Marks] </b> </p>\n",
    "\n",
    "*Hint:* compute $(\\text{vlp})\\nu$."
   ]
  },
  {
   "cell_type": "code",
   "execution_count": 161,
   "id": "3c10796c",
   "metadata": {},
   "outputs": [
    {
     "data": {
      "text/plain": [
       "4999"
      ]
     },
     "execution_count": 161,
     "metadata": {},
     "output_type": "execute_result"
    }
   ],
   "source": [
    "vlp = pickle.load(gzip.open(\"vlp.p.gz\", \"r\"))\n",
    "vlp.degree() # is equal to 4999\n"
   ]
  },
  {
   "cell_type": "code",
   "execution_count": 162,
   "id": "10c7500c",
   "metadata": {},
   "outputs": [
    {
     "data": {
      "text/plain": [
       "0"
      ]
     },
     "execution_count": 162,
     "metadata": {},
     "output_type": "execute_result"
    }
   ],
   "source": [
    "vlp_dis = disjoint_cycles(vlp)\n",
    "vlp_v = 0\n",
    "for i in vlp_dis:\n",
    "    if len(i)%2==0:\n",
    "        vlp_v +=1\n",
    "vlp_v # is equal to zero so there are no disjoint cycles of even length."
   ]
  },
  {
   "cell_type": "markdown",
   "id": "bd2104d8",
   "metadata": {},
   "source": [
    "By theorem 8.15 if the disjoint cycles have lengths ri, then the order of the permutation is equal to the lowest common multiple of the lengths . So adding a disjoint cycle of length 8 will multiply the order by 8, since it will\n",
    "be the only cycle of even length."
   ]
  },
  {
   "cell_type": "code",
   "execution_count": 163,
   "id": "b9e1dfb5",
   "metadata": {},
   "outputs": [
    {
     "data": {
      "text/plain": [
       "8.0"
      ]
     },
     "execution_count": 163,
     "metadata": {},
     "output_type": "execute_result"
    }
   ],
   "source": [
    "\n",
    "vlp_dis.add((5000,5001,5002,5003,5004,5005,5006,5007))\n",
    "\n",
    "#Testing solution\n",
    "lengths = []\n",
    "for i in vlp_dis:\n",
    "    lengths.append(len(i))\n",
    "\n",
    "\n",
    "sigma_order = reduce(math.lcm,lengths)\n",
    "original_vlp_order = 94440262354631016982509501739431515720297024775 # This is from the calculation in question 2\n",
    "\n",
    "sigma_order/original_vlp_order # returns 8, confirming the order of the permutation is 8 times the order of vlp."
   ]
  },
  {
   "cell_type": "code",
   "execution_count": 164,
   "id": "6d29ad43",
   "metadata": {},
   "outputs": [],
   "source": [
    "#Storing permutation bigger_perm\n",
    "y = Perm((5000,5001,5002,5003,5004,5005,5006,5007))\n",
    "bigger_perm = vlp*y"
   ]
  },
  {
   "cell_type": "code",
   "execution_count": 165,
   "id": "6c6dda50",
   "metadata": {
    "deletable": false,
    "editable": false,
    "nbgrader": {
     "cell_type": "code",
     "checksum": "94d3071f7df0c66e4fe4ec340045f573",
     "grade": true,
     "grade_id": "cell-6028de78d6347529",
     "locked": true,
     "points": 2,
     "schema_version": 3,
     "solution": false,
     "task": false
    }
   },
   "outputs": [],
   "source": [
    "# VALIDATION CELL\n",
    "from nose.tools import *\n",
    "from groups import *\n",
    "if not \"bigger_perm\" in globals():\n",
    "    raise NotImplementedError(\"bigger_perm has not been defined in Question 5\")\n",
    "if not isinstance(bigger_perm, Perm):\n",
    "    raise TypeError()"
   ]
  }
 ],
 "metadata": {
  "kernelspec": {
   "display_name": "Python 3",
   "language": "python",
   "name": "python3"
  },
  "language_info": {
   "codemirror_mode": {
    "name": "ipython",
    "version": 3
   },
   "file_extension": ".py",
   "mimetype": "text/x-python",
   "name": "python",
   "nbconvert_exporter": "python",
   "pygments_lexer": "ipython3",
   "version": "3.9.2"
  },
  "toc": {
   "base_numbering": 1,
   "nav_menu": {},
   "number_sections": false,
   "sideBar": true,
   "skip_h1_title": false,
   "title_cell": "Table of Contents",
   "title_sidebar": "Contents",
   "toc_cell": false,
   "toc_position": {
    "height": "calc(100% - 180px)",
    "left": "10px",
    "top": "150px",
    "width": "165px"
   },
   "toc_section_display": true,
   "toc_window_display": true
  }
 },
 "nbformat": 4,
 "nbformat_minor": 5
}
