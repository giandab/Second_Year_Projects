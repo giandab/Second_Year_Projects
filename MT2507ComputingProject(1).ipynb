{
 "cells": [
  {
   "cell_type": "markdown",
   "id": "9a1cf9d6",
   "metadata": {},
   "source": [
    "# MT2507 Mathematical Modelling: Computing Project"
   ]
  },
  {
   "cell_type": "markdown",
   "id": "79a46c34",
   "metadata": {},
   "source": [
    "## Instructions\n",
    "\n",
    "There is one helper worksheet associated with this project. You should work through this sheet before attempting the project.\n",
    "\n",
    "The project itself is worth 15% of your final grade in the module.  There are 30 marks available.\n",
    "\n",
    "#### Submitting your project\n",
    "You should upload your work as a single *.ipynb* file to the relevant *MySaint* area as a single file by **2pm on Friday 25 March 2022** (end of Week 9).  \n",
    "\n",
    "If you have been working on the server you will need to download the file from this server using `Download as>Notebook` in the `File` menu. The file **must** be downloaded as a Notebook. Your project must be self-contained such that it works when run in sequence (from top to bottom) by the marker.\n",
    "\n",
    "#### Getting help\n",
    "Help is available from staff in your computing lab session for each of Weeks 5-9 of the semester, excluding the February vacation.  Make sure to use these well and do not leave all your questions to Week 9 (there are only so many things we can answer in the hour!).\n",
    "\n",
    "#### Other comments\n",
    "For each question three empty cells have been added below. This is an arbitrary number and you can add or delete cells as you wish. \n",
    "\n",
    "Some questions have been broken down into lettered parts for clarity, but you can answer each question in the cells below the question statement (you don't need to say which corresponds to which part(s))."
   ]
  },
  {
   "cell_type": "markdown",
   "id": "5da0751e",
   "metadata": {},
   "source": [
    "## Part 1: A Single Species Population Model\n",
    "\n",
    "In a simple model for a *biochemical switch* (needed, for example, to explain pattern formation in animal coat markings with stripes or spots) a gene $x$ is activated by an amount of a chemical substance $s$, decays at a linear rate $-rx$, and is self-stimulating by a nonlinear auto-catalytic feedback reaction, leading to an ODE\n",
    "\\begin{equation}\n",
    "\\frac{dx}{dt} = F(x) = s - r x + \\frac{x^2}{1+x^2} \\; ,\n",
    "\\label{1dode}\n",
    "\\end{equation}\n",
    "where $s$ and $r$ are positive parameters.\n"
   ]
  },
  {
   "cell_type": "markdown",
   "id": "e333ccfc",
   "metadata": {},
   "source": [
    "### Question 1.\n",
    "\n",
    "For this question take the parameters $s=0.01$ and $r=0.4$. The aim of this question is to locate each root of $F(x)=0$ for these parameters, using the Newton-Raphson method.\n",
    "\n",
    "(a) Make a plot of the function $F(x)$ for suitable $x$ that allows the number of roots of $F(x)=0$ to be found, and initial guesses for each root to be chosen. \n",
    "\n",
    "(b) Write a function which implements the Newton-Raphson method.  \n",
    "\n",
    "The function should have the following arguments: \n",
    "- an initial guess\n",
    "- a function\n",
    "- the derivative of the function\n",
    "- suitable stopping condition(s) \n",
    "\n",
    "The function should output the following for each iteration:\n",
    "- the iterate number $n$, \n",
    "- the value of $x_n$ and \n",
    "- the difference $x_n-x_{n-1}$.  \n",
    "\n",
    "(c) Use your function of part (b) to find all positive steady states of the ODE to an accuracy of four decimal places. \n",
    " \n",
    "\n",
    "<div style=\"text-align: right\"> <b> [4 Marks]</b> </div>\n",
    "\n"
   ]
  },
  {
   "cell_type": "code",
   "execution_count": 1,
   "id": "189b127d",
   "metadata": {},
   "outputs": [
    {
     "data": {
      "image/png": "[encoded data removed]",
      "text/plain": [
       "<Figure size 432x288 with 1 Axes>"
      ]
     },
     "metadata": {
      "needs_background": "light"
     },
     "output_type": "display_data"
    }
   ],
   "source": [
    "import matplotlib.pyplot as plt\n",
    "import numpy as np\n",
    "import sympy as sym \n",
    "s = 0.01\n",
    "r=0.4\n",
    "\n",
    "def f(x):\n",
    "    return s-r*x + (x**2)/(1+x**2)\n",
    "\n",
    "x = np.arange(-3,3,0.01)\n",
    "plt.plot(x,f(x))\n",
    "plt.xlabel(\"x\")\n",
    "plt.ylabel(\"f(x)\")\n",
    "plt.title(\"plot of f(x)\")\n",
    "plt.grid(True)\n",
    "    "
   ]
  },
  {
   "cell_type": "code",
   "execution_count": 2,
   "id": "3375d325",
   "metadata": {},
   "outputs": [],
   "source": [
    "x = sym.symbols((\"x\"))\n",
    "deriv = sym.diff(f(x),x)\n",
    "def dfdx(x1):\n",
    "    return deriv.subs(x,x1)\n",
    "\n",
    "#Function question asks for\n",
    "def Nroot(x,f,dfdx,condition):\n",
    "    difference = 1\n",
    "    iterate_number = 1\n",
    "    while difference > condition or difference < -condition:\n",
    "        \n",
    "        previous_step = x \n",
    "        \n",
    "        #Newton-Raphson formula\n",
    "        x = x - f(x)/dfdx(x)\n",
    "        difference = x-previous_step\n",
    "        \n",
    "        #Required output\n",
    "        print(\"Iterate number: \", iterate_number)\n",
    "        print(\"Value of x: \",x)\n",
    "        print(\"Difference xn - xn-1 :\",difference)\n",
    "        print(\"\")\n",
    "        iterate_number+=1"
   ]
  },
  {
   "cell_type": "code",
   "execution_count": 3,
   "id": "7aa1ef69",
   "metadata": {},
   "outputs": [
    {
     "name": "stdout",
     "output_type": "stream",
     "text": [
      "Iterate number:  1\n",
      "Value of x:  2.38214285714286\n",
      "Difference xn - xn-1 : 0.882142857142856\n",
      "\n",
      "Iterate number:  2\n",
      "Value of x:  2.06589614770963\n",
      "Difference xn - xn-1 : -0.316246709433227\n",
      "\n",
      "Iterate number:  3\n",
      "Value of x:  2.04125993660723\n",
      "Difference xn - xn-1 : -0.0246362111023979\n",
      "\n",
      "Iterate number:  4\n",
      "Value of x:  2.04105944670497\n",
      "Difference xn - xn-1 : -0.000200489902264067\n",
      "\n",
      "Iterate number:  5\n",
      "Value of x:  2.04105943313687\n",
      "Difference xn - xn-1 : -1.35680973123442e-8\n",
      "\n",
      "################\n",
      "Iterate number:  1\n",
      "Value of x:  0.0250000000000000\n",
      "Difference xn - xn-1 : 0.0250000000000000\n",
      "\n",
      "Iterate number:  2\n",
      "Value of x:  0.0267842805883200\n",
      "Difference xn - xn-1 : 0.00178428058831999\n",
      "\n",
      "Iterate number:  3\n",
      "Value of x:  0.0267934323505824\n",
      "Difference xn - xn-1 : 9.15176226240835e-6\n",
      "\n",
      "################\n",
      "Iterate number:  1\n",
      "Value of x:  0.458333333333333\n",
      "Difference xn - xn-1 : -0.0416666666666667\n",
      "\n",
      "Iterate number:  2\n",
      "Value of x:  0.457148438496089\n",
      "Difference xn - xn-1 : -0.00118489483724382\n",
      "\n",
      "Iterate number:  3\n",
      "Value of x:  0.457147134273455\n",
      "Difference xn - xn-1 : -1.30422263411312e-6\n",
      "\n"
     ]
    }
   ],
   "source": [
    "\n",
    "#To find the steady states we will need to use the newton-raphson formula\n",
    "Nroot(1.5,f,dfdx,0.00001)\n",
    "print(\"################\")\n",
    "Nroot(0,f,dfdx,0.00001)\n",
    "print(\"################\")\n",
    "Nroot(0.5,f,dfdx,0.0001)\n",
    "\n",
    "#Therefore positive steady states exist at x = 2.0412 , x = 0.0268 , x =0.4571  To 4 decimal places"
   ]
  },
  {
   "cell_type": "markdown",
   "id": "48487df2",
   "metadata": {},
   "source": [
    "### Question 2\n",
    "\n",
    "Solve the ODE of Question 1 numerically using the fourth order Runge-Kutta method for the two initial conditions \n",
    "\n",
    "- $x(0) = 0.45$, and \n",
    "\n",
    "- $x(0) = 0.5$.\n",
    "\n",
    "In each case you should choose an appropriate time step $h$ and a suitable total number of steps so that the solution obtained allows the long time behaviour of the solution to be known.\n",
    "\n",
    "Use the numerical solutions found to produce a plot of both solutions, with $x$ against $t$.\n",
    "\n",
    "The result, and any subsequent explorations you choose to make, should allow you to characterise the nature of one of the steady states found in Part 1 Question 1.  Explain your finding mathematically (you are not required to provide a biological explanation).\n",
    "\n",
    "  <div style=\"text-align: right\"> <b> [8 Marks]</b> </div>\n"
   ]
  },
  {
   "cell_type": "code",
   "execution_count": 4,
   "id": "359a97f4",
   "metadata": {},
   "outputs": [
    {
     "name": "stdout",
     "output_type": "stream",
     "text": [
      "tn:  99.9999999999986  x:  2.0410594326023466\n",
      "tn:  99.9999999999986  x:  0.026793432591414663\n"
     ]
    },
    {
     "data": {
      "image/png": "[encoded data removed]",
      "text/plain": [
       "<Figure size 432x288 with 1 Axes>"
      ]
     },
     "metadata": {
      "needs_background": "light"
     },
     "output_type": "display_data"
    }
   ],
   "source": [
    "def RK (init_condition,f,h,steps):\n",
    "    tn = 0\n",
    "    x_array = []\n",
    "    y_array=[]\n",
    "    x = init_condition\n",
    "    \n",
    "    for i in range(steps):\n",
    "        tn = tn +h\n",
    "        x_array.append(tn)\n",
    "        k1 = h*f(x)\n",
    "        k2 = h*f(x + 0.5*k1)\n",
    "        k3 = h*f(x + 0.5*k2)\n",
    "        k4 = h*f(x+k3)\n",
    "        x = x + (1/6)*(k1+(2*k2)+(2*k3)+k4)\n",
    "        y_array.append(x)\n",
    "    print(\"tn: \", tn, \" x: \",x)\n",
    "    plt.plot(x_array,y_array)\n",
    "    \n",
    "RK(0.5,f,0.1,1000)\n",
    "RK(0.45,f,0.1,1000)\n",
    "\n",
    "#The steady state at x = 0.4571 is unstable as solution curves move away from it from both sides"
   ]
  },
  {
   "cell_type": "code",
   "execution_count": null,
   "id": "799239b8",
   "metadata": {},
   "outputs": [],
   "source": []
  },
  {
   "cell_type": "code",
   "execution_count": null,
   "id": "3813588d",
   "metadata": {},
   "outputs": [],
   "source": []
  },
  {
   "cell_type": "markdown",
   "id": "580b756a",
   "metadata": {},
   "source": [
    "## Part 2: A  Modified Two-Species Population Model\n",
    "\n",
    "Consider the system of first-order ODEs modelling two competing species $x(t)$ and $y(t)$ given by\n",
    "\n",
    "\\begin{eqnarray}\n",
    "\\frac{dx}{dt} & = & x( a_1 -b_1 x -c_1 \\mathrm{e}^{d_1 y}),  \\\\\n",
    "\\frac{dy}{dt} & = & y( a_2 -b_2 y -c_2 \\mathrm{e}^{d_2 x}) .\n",
    "\\end{eqnarray}\n",
    "\n",
    "Here all coefficients are assumed to be real and positive. We also assume that $x \\ge 0 $ and $y\\ge 0$. \n",
    "\n",
    "Three of the steady states of this system of equations can be determined analytically as:\n",
    "\n",
    "* $(x_0,y_0) =(0,0)$,\n",
    "\n",
    "\n",
    "* $\\displaystyle (x_0,y_0) =\\left(0, \n",
    "\\frac{a_2-c_2}{b_2}\\right)$, assuming that $a_2 > c_2$,\n",
    "\n",
    "\n",
    "* $\\displaystyle (x_0,y_0) =\\left( \\frac{a_1-c_1}{b_1},0\\right)$, \n",
    "assuming that $a_1 > c_1$.\n",
    "\n",
    "\n",
    "The fourth steady state satisfies the set of equations\n",
    "\\begin{eqnarray}\n",
    " a_1 -b_1 x -c_1 \\mathrm{e}^{d_1 y}=0, \\\\\n",
    "a_2 -b_2 y -c_2 \\mathrm{e}^{d_2 x}=0 ,\n",
    "\\end{eqnarray}\n",
    "which can only be solved numerically."
   ]
  },
  {
   "cell_type": "markdown",
   "id": "cf38c2c3",
   "metadata": {},
   "source": [
    "### Question 1\n",
    "\n",
    "Using the Newton-Raphson method for functions of two variables, write a Python code to solve for the fourth steady state numerically, using the parameter values  $a_1=b_1=a_2=b_2=1.0$, $c_1=d_1=0.1$, $c_2=0.2$ and $d_2=0.3$.  \n",
    "\n",
    "Use your code to find the fourth steady state, to four decimal places in both $x$ and $y$.\n",
    "<div style=\"text-align: right\"> <b> [6 Marks]</b> </div>\n"
   ]
  },
  {
   "cell_type": "code",
   "execution_count": 5,
   "id": "639c95ab",
   "metadata": {},
   "outputs": [
    {
     "name": "stdout",
     "output_type": "stream",
     "text": [
      "xn:  0.890688854121364  yn:  0.738736061035715\n"
     ]
    }
   ],
   "source": [
    "y = sym.symbols(\"y\")\n",
    "\n",
    "def f1(x,y):\n",
    "    return (1-x-0.1*sym.exp(0.1*y))\n",
    "def f2(x,y):\n",
    "    return (1-y-0.2*sym.exp(0.3*x))\n",
    "\n",
    "#defining functions that will return the matrices needed for each step of the method\n",
    "def jacobian_inv(x_n,y_n):\n",
    "    jacobian = sym.Matrix(2,2,[-1,-0.1*y_n*sym.exp(0.1*y_n),-x_n*0.2*sym.exp(0.3*x_n),-1])\n",
    "    return sym.Inverse(jacobian)    \n",
    "\n",
    "x_n = 1\n",
    "y_n = 1\n",
    "def n_matrix(x_n,y_n):\n",
    "    return sym.Matrix(2,1,[x_n,y_n])\n",
    "def fn_matrix(x_n,y_n):\n",
    "    return sym.Matrix(2,1,[f1(x_n,x_n),f2(x_n,y_n)])\n",
    "\n",
    "#Main method loop\n",
    "for i in range(5):\n",
    "    new_matrix = n_matrix(x_n,y_n) - (jacobian_inv(x_n,y_n)*fn_matrix(x_n,y_n))\n",
    "    x_n = new_matrix[0]\n",
    "    y_n = new_matrix[1]\n",
    "\n",
    "print(\"xn: \", x_n, \" yn: \", y_n)\n",
    "#The steady state is at x = 0.8907 y=0.7387 To 4 decimal places"
   ]
  },
  {
   "cell_type": "code",
   "execution_count": null,
   "id": "60070d63",
   "metadata": {},
   "outputs": [],
   "source": []
  },
  {
   "cell_type": "code",
   "execution_count": null,
   "id": "c7959f06",
   "metadata": {},
   "outputs": [],
   "source": []
  },
  {
   "cell_type": "markdown",
   "id": "dabe4079",
   "metadata": {},
   "source": [
    "### Question 2\n",
    "\n",
    "Write a Python code to solve the system of ODEs numerically using the fourth order Runge-Kutta method, for the parameter values given in Question 1.\n",
    "\n",
    "\n",
    "Use and extend this code to produce a phase plane plot. The phase plane plot should show\n",
    "\n",
    "(a) the steady states, and\n",
    "\n",
    "(b) plots of solutions produced using your ODE solver. \n",
    "\n",
    "\n",
    "When producing the plot choose appropriate initial conditions such that each possible type of phase space trajectory is illustrated by at least one example solution.\n",
    "\n",
    "<div style=\"text-align: right\"> <b> [12 Marks]</b> </div>\n"
   ]
  },
  {
   "cell_type": "code",
   "execution_count": 6,
   "id": "004852ee",
   "metadata": {},
   "outputs": [
    {
     "data": {
      "image/png": "[encoded data removed]",
      "text/plain": [
       "<Figure size 432x288 with 1 Axes>"
      ]
     },
     "metadata": {
      "needs_background": "light"
     },
     "output_type": "display_data"
    }
   ],
   "source": [
    "def f(x,y,t):\n",
    "    return np.array([x*(1-x-0.1*np.exp(0.1*y)),y*(1-y-0.2*np.exp(0.3*x))])\n",
    "\n",
    "#RK Method\n",
    "def Runge_Kutta4(x,y,t,h,f):\n",
    "    k1 = h*f(x,y,t)\n",
    "    k2 = h*f(x +0.5*k1[0],y+0.5*k1[1],t+0.5*h)\n",
    "    k3 = h*f(x+0.5*k2[0],y+0.5*k2[1],t+0.5*h)\n",
    "    k4 = h*f(x+k3[0],y+k3[1],t+h)\n",
    "    x = x + (1/6)*(k1[0]+(2*k2[0])+(2*k3[0])+k4[0])\n",
    "    y = y +(1/6)*(k1[1]+(2*k2[1])+(2*k3[1])+k4[1])\n",
    "    return [x,y]\n",
    "\n",
    "\n",
    "\n",
    "#Function with loop applying method\n",
    "def run_method(x,y,t,h,f):\n",
    "    \n",
    "    #Storing solutions\n",
    "    x_array= []\n",
    "    y_array =[]\n",
    "    \n",
    "    for i in range(100):\n",
    "        [x,y]= Runge_Kutta4(x,y,t,h,f)\n",
    "        t=t+h\n",
    "        x_array.append(x)\n",
    "        y_array.append(y)\n",
    "    #plotting\n",
    "    plt.plot(x_array,y_array,\"k-\")\n",
    "\n",
    "\n",
    "#Plotting curves on the phase plane plot - assuming x>=0 and y>=0\n",
    "\n",
    "plt.xlim(0,2)\n",
    "plt.ylim(0,2)\n",
    "\n",
    "x_init = 0.11\n",
    "y_init = 0\n",
    "for i in range(10):\n",
    "    run_method(x_init,y_init,0,0.1,f)\n",
    "    y_init+=0.2\n",
    "x_init = 0\n",
    "y_init = 0.1\n",
    "for i in range(10):\n",
    "    run_method(x_init,y_init,0,0.1,f)\n",
    "    x_init+=0.2\n",
    "x_init = 2\n",
    "y_init = 0.1\n",
    "for i in range(10):\n",
    "    run_method(x_init,y_init,0,0.1,f)\n",
    "    y_init+=0.2\n",
    "x_init = 0\n",
    "y_init = 2\n",
    "for i in range(10):\n",
    "    run_method(x_init,y_init,0,0.1,f)\n",
    "    x_init+=0.2\n",
    "    "
   ]
  },
  {
   "cell_type": "code",
   "execution_count": null,
   "id": "8fe7f388",
   "metadata": {},
   "outputs": [],
   "source": []
  },
  {
   "cell_type": "code",
   "execution_count": null,
   "id": "f6fae7c5",
   "metadata": {},
   "outputs": [],
   "source": []
  }
 ],
 "metadata": {
  "kernelspec": {
   "display_name": "Python 3",
   "language": "python",
   "name": "python3"
  },
  "language_info": {
   "codemirror_mode": {
    "name": "ipython",
    "version": 3
   },
   "file_extension": ".py",
   "mimetype": "text/x-python",
   "name": "python",
   "nbconvert_exporter": "python",
   "pygments_lexer": "ipython3",
   "version": "3.8.8"
  },
  "toc": {
   "base_numbering": 1,
   "nav_menu": {},
   "number_sections": false,
   "sideBar": true,
   "skip_h1_title": false,
   "title_cell": "Table of Contents",
   "title_sidebar": "Contents",
   "toc_cell": false,
   "toc_position": {},
   "toc_section_display": true,
   "toc_window_display": false
  }
 },
 "nbformat": 4,
 "nbformat_minor": 5
}
