{
 "cells": [
  {
   "cell_type": "markdown",
   "id": "0ece6718",
   "metadata": {
    "deletable": false,
    "editable": false,
    "nbgrader": {
     "cell_type": "markdown",
     "checksum": "fcd8bc2144884f118a12c860755a9bf8",
     "grade": false,
     "grade_id": "cell-baee6939e7f7b25c",
     "locked": true,
     "schema_version": 3,
     "solution": false,
     "task": false
    }
   },
   "source": [
    "# MT2505 Computing Project Part 1 (Semester 2 2021/22)"
   ]
  },
  {
   "cell_type": "markdown",
   "id": "c83b8abc",
   "metadata": {
    "deletable": false,
    "editable": false,
    "nbgrader": {
     "cell_type": "markdown",
     "checksum": "67404b05ca0df4a71386affd14c9f398",
     "grade": false,
     "grade_id": "cell-97dbcd3fbedbe600",
     "locked": true,
     "schema_version": 3,
     "solution": false,
     "task": false
    }
   },
   "source": [
    "## Preliminaries\n",
    "\n",
    "This is the first of three Computing Projects for MT2505 Abstract Algebra. This project focuses on demonstrating properties of binary operations using Python."
   ]
  },
  {
   "cell_type": "markdown",
   "id": "efbc92dd",
   "metadata": {
    "deletable": false,
    "editable": false,
    "nbgrader": {
     "cell_type": "markdown",
     "checksum": "35339ca3764f360bb2b91c7adb158dac",
     "grade": false,
     "grade_id": "cell-802ec7069975d613",
     "locked": true,
     "schema_version": 3,
     "solution": false,
     "task": false
    }
   },
   "source": [
    "#### Before starting this project\n",
    "You should have attempted the \"List and Functions\" worksheet, and the MT2000 Computing Workshop prior to this."
   ]
  },
  {
   "cell_type": "markdown",
   "id": "fbc29652",
   "metadata": {
    "deletable": false,
    "editable": false,
    "nbgrader": {
     "cell_type": "markdown",
     "checksum": "d07cff3634d163b21c0ee341168d86e9",
     "grade": false,
     "grade_id": "cell-8016f191a3c4a4ef",
     "locked": true,
     "schema_version": 3,
     "solution": false,
     "task": false
    }
   },
   "source": [
    "#### Submitting your project\n",
    "\n",
    "The deadline for this part of the project is **5pm on Friday 4th March**. There are 10 marks available in this part, and it is worth 5% of your final grade in the module.\n",
    "\n",
    "In order to submit your project, you must download it from this server **as a notebook** using `File> Download As> Notebook (.ipynb)`. You can then upload it to the relevant area on MySaint.\n",
    "\n",
    "Your notebook must produce the correct results when run from top to bottom with a fresh Python kernel. To test this, you should click `Kernel> Restart & Run All`. You should also **validate** your project before submitting it (see below).\n",
    "\n",
    "The process for submitting this part of your project is therefore\n",
    "1. Use `Kernel> Restart & Run All` to ensure that your code works correctly when run in sequence.\n",
    "2. Click the `Validate` button in the toolbar to ensure that your project passes the included validation cells.\n",
    "3. Download your project using `File> Download As> Notebook (.ipynb)`.\n",
    "4. Upload this file to MySaint."
   ]
  },
  {
   "cell_type": "markdown",
   "id": "42814ba9",
   "metadata": {
    "deletable": false,
    "editable": false,
    "nbgrader": {
     "cell_type": "markdown",
     "checksum": "c193d9223258416ee54c2a08d2d6be54",
     "grade": false,
     "grade_id": "cell-3bf3891815e95930",
     "locked": true,
     "schema_version": 3,
     "solution": false,
     "task": false
    }
   },
   "source": [
    "#### Validation\n",
    "\n",
    "The project already contains a number of code cells marked `# VALIDATION CELL`. You do not need to, and should not, make any changes to these cells.  Running one of these cells will perform some simple checks on the format of your work (for example, checking whether you have defined the function a question asks for). If a problem is detected an error will be produced giving you some feedback; if there is no detected problem there will be no output. **These cells do not test if your answer is actually correct**. You can run all of the validation cells by clicking the `Validate` button on the menu bar, but be aware that the validation for questions you have not attempted yet will automatically fail."
   ]
  },
  {
   "cell_type": "markdown",
   "id": "c9c38d61",
   "metadata": {
    "deletable": false,
    "editable": false,
    "nbgrader": {
     "cell_type": "markdown",
     "checksum": "3ae6926ba2104d3351c7ae0f5e6b61d0",
     "grade": false,
     "grade_id": "cell-a451944c3c24c4c3",
     "locked": true,
     "schema_version": 3,
     "solution": false,
     "task": false
    }
   },
   "source": [
    "#### Getting help\n",
    "Help is available during your scheduled computing classes."
   ]
  },
  {
   "cell_type": "markdown",
   "id": "9e1b8354",
   "metadata": {},
   "source": [
    "#### Guidance\n",
    "\n",
    "There is a [guidance document](https://moody.st-andrews.ac.uk/moodle/pluginfile.php/1376225/mod_resource/content/1/build/zz-index.html) on Moodle which you should read before attempting the project. This contains important information which may affect your grade."
   ]
  },
  {
   "cell_type": "markdown",
   "id": "eafebbd9",
   "metadata": {
    "deletable": false,
    "editable": false,
    "nbgrader": {
     "cell_type": "markdown",
     "checksum": "cb3a56923ec44ed0429a8643fb9d3155",
     "grade": false,
     "grade_id": "cell-ba6573cd54a20a32",
     "locked": true,
     "schema_version": 3,
     "solution": false,
     "task": false
    }
   },
   "source": [
    "# Binary Operations\n",
    "\n",
    "As seen in lectures, we can represent binary operations by their Cayley tables. The Cayley table\n",
    "\n",
    "<center>\n",
    "$\n",
    "\\begin{array}{l|lll}\n",
    "\\ast & 0 & 1 & 2 \\\\ \\hline\n",
    "0    & 0 & 1 & 0 \\\\ \n",
    "1    & 0 & 0 & 0 \\\\\n",
    "2    & 0 & 1 & 1 \\\\\n",
    "\\end{array}$\n",
    "</center>\n",
    "\n",
    "represents a binary operation where, for example, $2 \\ast 1 = 1$ and $1 \\ast 2 = 0$. The entry in row $x$ and column $y$ is the value of $x \\ast y$.\n",
    "\n",
    "The binary operation given by the table above could be represented in Python by a list of lists like so:"
   ]
  },
  {
   "cell_type": "code",
   "execution_count": 13,
   "id": "44f06b56",
   "metadata": {},
   "outputs": [],
   "source": [
    "X = [[0, 1, 0], [0, 0, 0], [0, 1, 1]]"
   ]
  },
  {
   "cell_type": "markdown",
   "id": "c4acc5f3",
   "metadata": {
    "deletable": false,
    "editable": false,
    "nbgrader": {
     "cell_type": "markdown",
     "checksum": "0280821269e971a7114faa07f53e8eb9",
     "grade": false,
     "grade_id": "cell-73b4353864af07df",
     "locked": true,
     "schema_version": 3,
     "solution": false,
     "task": false
    }
   },
   "source": [
    "Note that each of the nested lists corresponds to a row of the Cayley table, and the product $x \\ast y$ is given by `X[x][y]`. "
   ]
  },
  {
   "cell_type": "code",
   "execution_count": 14,
   "id": "a94d7120",
   "metadata": {},
   "outputs": [
    {
     "data": {
      "text/plain": [
       "1"
      ]
     },
     "execution_count": 14,
     "metadata": {},
     "output_type": "execute_result"
    }
   ],
   "source": [
    "X[0][1]"
   ]
  },
  {
   "cell_type": "markdown",
   "id": "5c571e2a",
   "metadata": {
    "deletable": false,
    "editable": false,
    "nbgrader": {
     "cell_type": "markdown",
     "checksum": "9d3c08451188695e8b7091a64dc09bbc",
     "grade": false,
     "grade_id": "cell-42529e9d0c97beac",
     "locked": true,
     "schema_version": 3,
     "solution": false,
     "task": false
    }
   },
   "source": [
    "This is a special property which only holds because the Cayley table is defined on the set $\\{0, 1, \\ldots, n - 1\\}$ for some positive integer $n$ (where in this case $n = 3$). In this project, we will only consider binary operations on such a set $\\{0, 1, \\ldots, n-1\\}$."
   ]
  },
  {
   "cell_type": "markdown",
   "id": "135bf2b0",
   "metadata": {
    "deletable": false,
    "editable": false,
    "nbgrader": {
     "cell_type": "markdown",
     "checksum": "e266ac6429506739d49cd3695e538aee",
     "grade": false,
     "grade_id": "cell-de44373d9d35eec3",
     "locked": true,
     "points": 0,
     "schema_version": 3,
     "solution": false,
     "task": true
    }
   },
   "source": [
    "#### Question 1.\n",
    "\n",
    "For the purposes of this project, a binary operation is a list `X` such that:\n",
    "1. The length of `X` is a positive integer $n$.\n",
    "2. Each entry of `X` is a list of length $n$, called a *row*.\n",
    "3. Each row of `X` contains only `int` values $x \\in \\{0, 1, \\ldots, n - 1\\}$.\n",
    "\n",
    "*The function `validate_binary_operation` defined below checks some of these properties. Complete it so that it correctly returns `True` if `X` is a valid binary operation, and raises an appropriate `TypeError` or `ValueError` otherwise.*\n",
    "\n",
    "\n",
    "*Note*: the validation cell only contains a small number of tests for your function; it would be sensible to test it on more examples.\n",
    "\n",
    "<p style='text-align:right;'> <b> [1 Mark] </b> </p>"
   ]
  },
  {
   "cell_type": "code",
   "execution_count": 15,
   "id": "a849f9ae",
   "metadata": {},
   "outputs": [],
   "source": [
    "def validate_binary_operation(X):\n",
    "    # Binary operations must be lists:\n",
    "    if not isinstance(X, list):\n",
    "        raise TypeError(\"binary operations should be lists, but got a \" + type(X).__name__)\n",
    "\n",
    "    # Binary operations must have positive length:\n",
    "    if not len(X) > 0:\n",
    "        raise ValueError(\"binary operations should be positive-length, but got a list of length 0\")\n",
    "\n",
    "    for row in X:\n",
    "        # Each entry of a binary operation must be a list:\n",
    "        if not isinstance(row, list):\n",
    "            raise TypeError(\"binary operations should be lists of lists, but got a list containing a \"\n",
    "                           + type(X).__name__)\n",
    "    \n",
    "    # Complete the checks in this function!\n",
    "    for row in X:\n",
    "        if len(row)!= len(X):\n",
    "            raise ValueError(\"each row should be equal to the length of X\")\n",
    "        for a in row:\n",
    "            if type(a) != int:\n",
    "                raise TypeError(\"rows should countain only integers\")\n",
    "                \n",
    "            if a<0 or a>(len(X)-1):\n",
    "                raise ValueError(\"each row should contain only values [0,1,...n-1]\")\n",
    "\n",
    "    return True\n"
   ]
  },
  {
   "cell_type": "code",
   "execution_count": 16,
   "id": "22c1e2fa",
   "metadata": {
    "deletable": false,
    "editable": false,
    "nbgrader": {
     "cell_type": "code",
     "checksum": "53bacfb657fc2f47463df392c875d541",
     "grade": true,
     "grade_id": "cell-bde475e7e85f00f5",
     "locked": true,
     "points": 1,
     "schema_version": 3,
     "solution": false,
     "task": false
    }
   },
   "outputs": [],
   "source": [
    "# VALIDATION CELL\n",
    "# Cells like this contain some validation.\n",
    "# If an error is produced, you need to fix something in your code.\n",
    "# If no error is produced, this is *NOT* a guarantee you have correctly answered the question.\n",
    "# Do not modify these cells.\n",
    "from nose.tools import *\n",
    "from sampleops import *\n",
    "if not \"validate_binary_operation\" in globals():\n",
    "    raise NotImplementedError(\"validate_binary_operation has not been defined in Question 1\")\n",
    "\n",
    "assert_raises(TypeError, validate_binary_operation, \"banana\")\n",
    "assert_raises(TypeError, validate_binary_operation, [\"a\"])\n",
    "assert_raises(ValueError, validate_binary_operation, [[1]])\n",
    "assert_equal(validate_binary_operation([[0, 1], [1, 1]]), True)\n"
   ]
  },
  {
   "cell_type": "markdown",
   "id": "282ad7cb",
   "metadata": {
    "deletable": false,
    "editable": false,
    "nbgrader": {
     "cell_type": "markdown",
     "checksum": "b9ed5ca32977c4b2281cb19967765131",
     "grade": false,
     "grade_id": "cell-03a1d0d6a8e04e17",
     "locked": true,
     "points": 0,
     "schema_version": 3,
     "solution": false,
     "task": true
    }
   },
   "source": [
    "#### Question 2.\n",
    "\n",
    "Recall that a binary operation $\\ast$ on a set $A$ is *associative* if $a\\ast(b \\ast c) = (a \\ast b)\\ast c$ for all $a,b,c \\in A$. If you are asked whether an operation is associative, you should either prove that it is, or provide a counterexample to show that it is not. A very direct way of proving it would be to check every choice of three values $a, b, c \\in A$, but this quickly becomes too much work to do by hand. For example, if $|A| = 50$, you would need to check more than one hundred thousand triples - and each one requires you to compute 4 products! This sort of direct verification is best done by computer.\n",
    "\n",
    "*Write a function `is_associative_operation` which takes a binary operation (as defined above) `X` and returns `True` if the operation is associative, and `False` if not. Your function should first call `validate_binary_operation(X)` so that an appropriate `Exception` is raised if the argument is not a binary operation.*\n",
    "\n",
    "\n",
    "<p style='text-align:right;'> <b> [2 Marks] </b> </p>\n",
    "\n",
    "*Note:* recall that the product of `a` and `b` under `X` is given by `X[a][b]`.\n",
    "\n",
    "Running `from sampleops import *` will give you access to two lists `associative_examples` and `non_associative_examples` which might help you test your function. Each entry of these lists is a binary operation, so for example you could test `is_associative(associate_examples[0])`. The validation cell tests your function on these lists.\n"
   ]
  },
  {
   "cell_type": "code",
   "execution_count": 17,
   "id": "33574964",
   "metadata": {},
   "outputs": [],
   "source": [
    "\n",
    "def is_associative(X):\n",
    "    validate_binary_operation(X)\n",
    "    for i in range(len(X)):\n",
    "        for a in range(len(X)):\n",
    "            for b in range(len(X)):\n",
    "                if X[i][X[a][b]] != X[X[i][a]][b]:\n",
    "                    return False\n",
    "    return True\n"
   ]
  },
  {
   "cell_type": "code",
   "execution_count": 18,
   "id": "6b79d24c",
   "metadata": {
    "deletable": false,
    "editable": false,
    "nbgrader": {
     "cell_type": "code",
     "checksum": "f21a4374c88bdf5fd147cd00834ece7b",
     "grade": true,
     "grade_id": "cell-87d66870b6c320f8",
     "locked": true,
     "points": 2,
     "schema_version": 3,
     "solution": false,
     "task": false
    }
   },
   "outputs": [],
   "source": [
    "# VALIDATION CELL\n",
    "from nose.tools import *\n",
    "from sampleops import *\n",
    "if not \"is_associative\" in globals():\n",
    "    raise NotImplementedError(\"is_associative has not been defined in Question 2\")\n",
    "    \n",
    "assert_raises(TypeError, is_associative, \"banana\")\n",
    "\n",
    "for test_op in associative_examples:\n",
    "    assert_true(is_associative(test_op))\n",
    "for test_op in non_associative_examples:\n",
    "    assert_false(is_associative(test_op))\n"
   ]
  },
  {
   "cell_type": "markdown",
   "id": "62fac27c",
   "metadata": {
    "deletable": false,
    "editable": false,
    "nbgrader": {
     "cell_type": "markdown",
     "checksum": "221b61abf271062a33492d17918cc1c4",
     "grade": false,
     "grade_id": "cell-ef78210065f77e23",
     "locked": true,
     "points": 0,
     "schema_version": 3,
     "solution": false,
     "task": true
    }
   },
   "source": [
    "#### Question 3.\n",
    "\n",
    "Recall that in general, a binary operation $\\ast$ on a set $A$ has *identity* $e$ if $e\\ast a = a \\ast e = a$ for all $a \\in A$. In the context of this practical, $e \\in \\{0, 1, \\ldots, n-1\\}$ is an identity of a list-of-lists binary operation `X` if and only if the row and column with index $e$ are both equal to `[0, 1, ..., n - 1]`.\n",
    "\n",
    "\n",
    "*Write a function `identity` which takes a binary operation `X` and returns the identity of the binary operation, or `-1` if there is no identity. As for `is_associative`, an appropriate `Exception` should be raised if the input is not a binary operation.*\n",
    "\n",
    "<p style='text-align:right;'> <b> [2 Marks] </b> </p>\n",
    "\n",
    "*Note:* the row indexed $i$ can be obtained by `X[i]`, and the column indexed $i$ by `[row[i] for row in X]`. The list `[0, 1, ..., n-1]` can be obtained as `list(range(n))`.\n",
    "\n",
    "Running `from sampleops import *` will give you access to two lists `identity_examples` and `identity_results` which might help you test your function. These lists have the property that `identity(identity_examples[i])` should be equal to `identity_results[i]`. The validation cell tests this property."
   ]
  },
  {
   "cell_type": "code",
   "execution_count": 19,
   "id": "236208a9",
   "metadata": {},
   "outputs": [],
   "source": [
    "\n",
    "def identity(X):\n",
    "    counter = 0 \n",
    "    validate_binary_operation(X)\n",
    "    for i in range(len(X)):\n",
    "        for a in range(len(X)):\n",
    "            if X[a][i]==X[i][a] and X[a][i] == a:\n",
    "                counter +=1\n",
    "                if counter == len(X):\n",
    "                    return i\n",
    "        counter = 0\n",
    "    return -1\n"
   ]
  },
  {
   "cell_type": "code",
   "execution_count": 20,
   "id": "55660954",
   "metadata": {
    "deletable": false,
    "editable": false,
    "nbgrader": {
     "cell_type": "code",
     "checksum": "c462fba176a7aedd0f126207a7ee7edc",
     "grade": true,
     "grade_id": "cell-aa92dc6ece4219c6",
     "locked": true,
     "points": 2,
     "schema_version": 3,
     "solution": false,
     "task": false
    }
   },
   "outputs": [],
   "source": [
    "# VALIDATION CELL\n",
    "from nose.tools import *\n",
    "from sampleops import *\n",
    "if not \"identity\" in globals():\n",
    "    raise NotImplementedError(\"identity has not been defined in Question 3\")\n",
    "    \n",
    "assert_raises(TypeError, identity, \"banana\")\n",
    "\n",
    "for (test_op, test_res) in zip(identity_examples, identity_results):\n",
    "    assert_equal(identity(test_op), test_res)\n"
   ]
  },
  {
   "cell_type": "markdown",
   "id": "796d68f8",
   "metadata": {
    "deletable": false,
    "editable": false,
    "nbgrader": {
     "cell_type": "markdown",
     "checksum": "7fc18d24d6554f1de5aa171351cfcfaf",
     "grade": false,
     "grade_id": "cell-dca55efd55a85e28",
     "locked": true,
     "points": 0,
     "schema_version": 3,
     "solution": false,
     "task": true
    }
   },
   "source": [
    "#### Question 4.\n",
    "\n",
    "In order to find whether a binary operation defines a group on a set, we need to determine whether every element has an inverse under the binary operation.\n",
    "\n",
    "*Write a function `has_inverses` which takes a binary operation `X` on $\\{0, 1, \\ldots, n-1\\}$ and returns whether every $x \\in \\{0, \\ldots, n-1\\}$ has an inverse under `X`. An appropriate `Exception` should be raised if the input is not a binary operation.*\n",
    "\n",
    "<p style='text-align:right;'> <b> [2 Marks] </b> </p>\n",
    "\n",
    "*Note:* if `identity(X)` returns `-1`, then `has_inverses(X)` should return `False`. You may find it easier to write a function `has_inverse(X, i)` first, to determine whether a particular element has an inverse.\n",
    "\n",
    "Running `from sampleops import *` will give you access to two lists `inverse_examples` and `inverse_results` which might help you test your function. These lists have the property that `has_inverses(inverse_examples[i])` should be equal to `inverse_results[i]`. The validation cell tests this property."
   ]
  },
  {
   "cell_type": "code",
   "execution_count": 21,
   "id": "0ab636a5",
   "metadata": {},
   "outputs": [],
   "source": [
    "\n",
    "def has_inverse(X , i):\n",
    "    ident = identity(X)\n",
    "    for a in range(len(X)):\n",
    "        if X[a][i]==X[i][a] and X[a][i]==ident:\n",
    "            return True\n",
    "        elif a == (len(X)- 1):\n",
    "            return False\n",
    "            \n",
    "\n",
    "def has_inverses(X):\n",
    "    if identity(X)==-1:\n",
    "        return False\n",
    "    validate_binary_operation(X)\n",
    "    for i in range(len(X)):\n",
    "        if has_inverse(X,i)==False:\n",
    "            return False\n",
    "    return True\n"
   ]
  },
  {
   "cell_type": "code",
   "execution_count": 22,
   "id": "78f541d9",
   "metadata": {
    "deletable": false,
    "editable": false,
    "nbgrader": {
     "cell_type": "code",
     "checksum": "e49f86da9f1a6dd5771b46fd276a041d",
     "grade": true,
     "grade_id": "cell-2b9ff9a80f8f475c",
     "locked": true,
     "points": 2,
     "schema_version": 3,
     "solution": false,
     "task": false
    }
   },
   "outputs": [],
   "source": [
    "# VALIDATION CELL\n",
    "from nose.tools import *\n",
    "from sampleops import *\n",
    "if not \"has_inverses\" in globals():\n",
    "    raise NotImplementedError(\"has_inverses has not been defined in Question 4\")\n",
    "\n",
    "assert_raises(TypeError, has_inverses, \"banana\")\n",
    "\n",
    "for (test_op, test_res) in zip(inverse_examples, inverse_results):\n",
    "    assert_equal(has_inverses(test_op), test_res)\n"
   ]
  },
  {
   "cell_type": "markdown",
   "id": "28a240e1",
   "metadata": {
    "deletable": false,
    "editable": false,
    "nbgrader": {
     "cell_type": "markdown",
     "checksum": "60baa316c0809ef0b3f64db4048dcbf1",
     "grade": false,
     "grade_id": "cell-b8c30fa21d6b1ea8",
     "locked": true,
     "points": 2,
     "schema_version": 3,
     "solution": false,
     "task": true
    }
   },
   "source": [
    "#### Question 5.\n",
    "\n",
    "Given natural numbers $a$ and $b$ with $b > 0$, we will write $a \\bmod b$ for the remainder on dividing $a$ by $b$, i.e. the number $r \\in \\{0, 1, \\ldots, b - 1\\}$ such that $a = bq + r$ for some $q \\in \\mathbb{N}$. We also write $\\left\\lfloor \\frac{a}{b} \\right\\rfloor$ for this corresponding quotient $q$.\n",
    "\n",
    "Define the binary operation $\\ast$ on the set $\\{0, 1, \\ldots, 71\\}$ as follows: \n",
    "for any $x, y \\in \\{0, 1, \\ldots, 71\\}$, let \n",
    "\\begin{align*}\n",
    "x_1 &= \\left\\lfloor\\frac{x}{6}\\right\\rfloor \\\\\n",
    "y_1 &= \\left\\lfloor\\frac{y}{6}\\right\\rfloor \\\\ \n",
    "x_2 &= x \\bmod 6 \\\\ \n",
    "y_2 &= y \\bmod 6.\n",
    "\\end{align*}\n",
    "Then define\n",
    "$$x \\ast y = 6\\left([x_1 + y_1] \\bmod 12\\right) + \\left([x_2y_2 + x_2 + y_2] \\bmod 7\\right).$$\n",
    "\n",
    "*Store this binary operation in a variable `q5_operation`. Does this define an abelian group?*\n",
    "\n",
    "<p style='text-align:right;'> <b> [3 Marks] </b> </p>\n",
    "\n",
    "*Note:* your final answer should be clearly justified and written in a text cell; use `Cell>Cell Type>Markdown` to convert a code cell to a text cell. You may provide any mix of mathematical and computational justification.\n",
    "\n",
    "You can get $\\left\\lfloor \\frac{a}{b} \\right\\rfloor$ in Python using integer division `a // b`, and $a \\bmod b$ using `a % b`. \n",
    "\n",
    "It would be sensible to test that your `q5_operation` does define a binary operation using `validate_binary_operation`."
   ]
  },
  {
   "cell_type": "code",
   "execution_count": 23,
   "id": "026ab0b7",
   "metadata": {},
   "outputs": [
    {
     "data": {
      "text/plain": [
       "True"
      ]
     },
     "execution_count": 23,
     "metadata": {},
     "output_type": "execute_result"
    }
   ],
   "source": [
    "set_list = list(range(72))\n",
    "q5_operation = []\n",
    "for i in range(72):\n",
    "    q5_operation.append([])\n",
    "    for a in range(72):\n",
    "        x1 = i//6\n",
    "        y1 = a//6\n",
    "        x2 = i%6\n",
    "        y2 = a%6\n",
    "        q5_operation[i].append(6*(x1+y1)%12+((x2*y2 +x2+y2)%7))\n",
    "validate_binary_operation(q5_operation)\n",
    "\n",
    "#Abelian group check\n",
    "def abelian_check(X):\n",
    "    for i in range(72):\n",
    "        for a in range(72):\n",
    "            if q5_operation[i][a]!=q5_operation[a][i]:\n",
    "                return False\n",
    "    return True\n",
    "\n",
    "abelian_check(q5_operation)"
   ]
  },
  {
   "cell_type": "code",
   "execution_count": 24,
   "id": "57b33992",
   "metadata": {
    "deletable": false,
    "editable": false,
    "nbgrader": {
     "cell_type": "code",
     "checksum": "a8582dc4ac53a7cb084b0bb0ac3cef9a",
     "grade": true,
     "grade_id": "cell-fd9fbf75edf90452",
     "locked": true,
     "points": 1,
     "schema_version": 3,
     "solution": false,
     "task": false
    }
   },
   "outputs": [],
   "source": [
    "# VALIDATION CELL\n",
    "\n",
    "from nose.tools import *\n",
    "from sampleops import *\n",
    "if not \"q5_operation\" in globals():\n",
    "    raise NotImplementedError(\"q5_operation has not been defined in Question 5\")\n"
   ]
  },
  {
   "cell_type": "markdown",
   "id": "4be2932a",
   "metadata": {},
   "source": [
    "The binary operation * on the set [0,1,...,71] defines an abelian group. This is shown by the computed check under the question code.\n"
   ]
  }
 ],
 "metadata": {
  "kernelspec": {
   "display_name": "Python 3",
   "language": "python",
   "name": "python3"
  },
  "language_info": {
   "codemirror_mode": {
    "name": "ipython",
    "version": 3
   },
   "file_extension": ".py",
   "mimetype": "text/x-python",
   "name": "python",
   "nbconvert_exporter": "python",
   "pygments_lexer": "ipython3",
   "version": "3.8.8"
  },
  "toc": {
   "base_numbering": 1,
   "nav_menu": {},
   "number_sections": false,
   "sideBar": true,
   "skip_h1_title": false,
   "title_cell": "Table of Contents",
   "title_sidebar": "Contents",
   "toc_cell": false,
   "toc_position": {},
   "toc_section_display": true,
   "toc_window_display": true
  }
 },
 "nbformat": 4,
 "nbformat_minor": 5
}
